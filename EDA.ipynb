{
 "cells": [
  {
   "cell_type": "code",
   "execution_count": null,
   "id": "e4d87224",
   "metadata": {},
   "outputs": [],
   "source": [
    "import pandas as pd\n",
    "import numpy as np\n",
    "import matplotlib.pyplot as plt\n"
   ]
  },
  {
   "cell_type": "markdown",
   "id": "d8d86c54",
   "metadata": {},
   "source": [
    "Первичный анализ данных"
   ]
  },
  {
   "cell_type": "code",
   "execution_count": 261,
   "id": "2adcf69e",
   "metadata": {},
   "outputs": [
    {
     "name": "stdout",
     "output_type": "stream",
     "text": [
      "   order_online_payment_flg  \\\n",
      "0                       1.0   \n",
      "1                       1.0   \n",
      "2                       1.0   \n",
      "3                       1.0   \n",
      "4                       1.0   \n",
      "\n",
      "                                          account_rk  \\\n",
      "0  209c833731e84d21b5b7e673e0fb848749b9e7d29cda64...   \n",
      "1  2bbcde706bead3731f2dc8dfbeefb4e12b42ac63e3d8ba...   \n",
      "2  a82919af3a5a1869f9becdcffa5c7d303d105797ce45b8...   \n",
      "3  9b2d5b4678781e53038e91ea5324530a03f27dc1d0e5f6...   \n",
      "4  3133e7ae6698dcda9754d6a8b449782320260ff1259547...   \n",
      "\n",
      "                                           client_rk  \\\n",
      "0  f4959ffb27271192727050953ecb27a8a8a38af413f3d8...   \n",
      "1  7025587bc277176246bc44dff396036552a41d5a92d6aa...   \n",
      "2  0368b36ccd204d631305233a1f952bc5fb0e3fd9f690fa...   \n",
      "3  1346344779d7bd788d03ec2ad1908daf71c6358aca47f1...   \n",
      "4  1a2a4351a96099f9e49bbe2fc7236d41ac63b444176058...   \n",
      "\n",
      "                                            order_rk loyalty_program_type_nm  \\\n",
      "0  fe1c6ce13774d102c655df4c01d54c34d495ef3d4c7e63...                   Bravo   \n",
      "1  98cb83b7748cdf77e43a50f56335a376b51fb767893303...   Tinkoff Black Premium   \n",
      "2  1bfb05606a8b16d48121b9f128889cc1d198c87d223a1b...   Tinkoff Black Premium   \n",
      "3  011a98649e7a2be3027ec27c1f0b0cb5dd5d82dda2f482...                     NaN   \n",
      "4  b5e7909d8d7b902e4cdf268ebcbef6820c10b0ed75614b...   Tinkoff Black Premium   \n",
      "\n",
      "  bundle_nm order_type_cd order_status_cd party_first_order_dt  \\\n",
      "0       Pro           AIR             SUC           2019-12-12   \n",
      "1   Premium           HOT             SUC           2019-11-21   \n",
      "2   Premium           AIR             SUC           2023-01-01   \n",
      "3   Premium           HOT             NaN           2023-12-18   \n",
      "4   Premium           AIR             SUC           2019-02-18   \n",
      "\n",
      "  party_first_order_type_dt  ... last_used_product_cd first_used_product_cd  \\\n",
      "0                2019-12-12  ...                  MPL                   MPL   \n",
      "1                2023-09-20  ...                  INV                   IBN   \n",
      "2                2023-01-01  ...                  MPL                   MPL   \n",
      "3                2023-12-18  ...                  MPL                   MPL   \n",
      "4                2019-02-18  ...                  MPL                   MPL   \n",
      "\n",
      "   mobile_phone_operator_nm marital_status_cd education_level_cd  \\\n",
      "0           Тинькофф Мобайл               NaN                NaN   \n",
      "1                     TELE2               MAR                GRD   \n",
      "2                   Скартел               UNM                GRD   \n",
      "3                    Билайн               NaN                NaN   \n",
      "4                   МегаФон               MAR                GRD   \n",
      "\n",
      "                       birth_place gender_cd last_sms_dt last_email_send_dt  \\\n",
      "0                    ГОР ЯРОСЛАВЛЬ         M  2024-07-02                NaN   \n",
      "1                  Р П ВЛАДИМИР 30         M  2024-06-26                NaN   \n",
      "2  ГОРОД АБАКАН РЕСПУБЛИКИ ХАКАСИЯ         M  2024-07-15                NaN   \n",
      "3               Г СТОКГОЛЬМ ШВЕЦИЯ         M  2024-06-25                NaN   \n",
      "4                      ГОР. МОСКВА         M  2024-07-15         2012-04-19   \n",
      "\n",
      "            last_session_dttm  \n",
      "0  2024-11-06 19:42:52.000000  \n",
      "1  2024-11-06 23:36:38.000000  \n",
      "2  2024-11-06 11:30:31.000000  \n",
      "3  2024-11-06 15:33:18.000000  \n",
      "4  2024-11-06 23:42:28.000000  \n",
      "\n",
      "[5 rows x 56 columns]\n"
     ]
    }
   ],
   "source": [
    "df = pd.read_csv('dano_dataset_travel.csv', delimiter=';', decimal=',', encoding='utf-8', low_memory=False)\n",
    "print(df.head())"
   ]
  },
  {
   "cell_type": "code",
   "execution_count": 262,
   "id": "389262c6",
   "metadata": {},
   "outputs": [
    {
     "name": "stdout",
     "output_type": "stream",
     "text": [
      "Размер данных: (835938, 56)\n"
     ]
    }
   ],
   "source": [
    "print(f\"Размер данных: {df.shape}\")"
   ]
  },
  {
   "cell_type": "code",
   "execution_count": 263,
   "id": "235063ce",
   "metadata": {},
   "outputs": [
    {
     "name": "stdout",
     "output_type": "stream",
     "text": [
      "\n",
      "Информация о столбцах:\n",
      "<class 'pandas.core.frame.DataFrame'>\n",
      "RangeIndex: 835938 entries, 0 to 835937\n",
      "Data columns (total 56 columns):\n",
      " #   Column                       Non-Null Count   Dtype  \n",
      "---  ------                       --------------   -----  \n",
      " 0   order_online_payment_flg     786885 non-null  float64\n",
      " 1   account_rk                   835938 non-null  object \n",
      " 2   client_rk                    835938 non-null  object \n",
      " 3   order_rk                     835938 non-null  object \n",
      " 4   loyalty_program_type_nm      754957 non-null  object \n",
      " 5   bundle_nm                    588049 non-null  object \n",
      " 6   order_type_cd                786885 non-null  object \n",
      " 7   order_status_cd              779514 non-null  object \n",
      " 8   party_first_order_dt         786885 non-null  object \n",
      " 9   party_first_order_type_dt    786767 non-null  object \n",
      " 10  free_cancel_booking_dttm     75600 non-null   object \n",
      " 11  created_dttm                 786885 non-null  object \n",
      " 12  cancel_dttm                  0 non-null       float64\n",
      " 13  book_start_dttm              786885 non-null  object \n",
      " 14  local_book_start_dttm        786885 non-null  object \n",
      " 15  book_end_dttm                171548 non-null  object \n",
      " 16  hotel_country                162248 non-null  object \n",
      " 17  hotel_city                   162248 non-null  object \n",
      " 18  avia_dep_city                615275 non-null  object \n",
      " 19  avia_arr_city                615275 non-null  object \n",
      " 20  promo_code_discount_amt      615900 non-null  float64\n",
      " 21  loyalty_accrual_rub_amt      475353 non-null  float64\n",
      " 22  nominal_price_eur_amt        786885 non-null  float64\n",
      " 23  nominal_price_rub_amt        786885 non-null  float64\n",
      " 24  order_item_cnt               615337 non-null  float64\n",
      " 25  month_beginning_balance_rub  776628 non-null  float64\n",
      " 26  monthly_income_amt           673078 non-null  float64\n",
      " 27  suppress_email_flg           835938 non-null  int64  \n",
      " 28  suppress_call_flg            835938 non-null  int64  \n",
      " 29  bounce_cd                    39675 non-null   float64\n",
      " 30  last_sms_success_flg         833939 non-null  float64\n",
      " 31  call_contact_6m_flg          271 non-null     float64\n",
      " 32  call_contact_3m_flg          271 non-null     float64\n",
      " 33  call_contact_1m_flg          271 non-null     float64\n",
      " 34  good_email_address_flg       19798 non-null   float64\n",
      " 35  bad_email_address_flg        19798 non-null   float64\n",
      " 36  email_valid_flg              835938 non-null  int64  \n",
      " 37  children_cnt                 719699 non-null  float64\n",
      " 38  age                          835937 non-null  float64\n",
      " 39  age_type_cd                  835690 non-null  object \n",
      " 40  parent_meeting_region_nm     786457 non-null  object \n",
      " 41  delivery_region_category_cd  835938 non-null  object \n",
      " 42  lvn_city_nm                  475969 non-null  object \n",
      " 43  lvn_state_nm                 783169 non-null  object \n",
      " 44  time_zone_delta_tm           835938 non-null  object \n",
      " 45  time_zone_cd                 835938 non-null  object \n",
      " 46  last_used_product_cd         835935 non-null  object \n",
      " 47  first_used_product_cd        833478 non-null  object \n",
      " 48  mobile_phone_operator_nm     834698 non-null  object \n",
      " 49  marital_status_cd            520888 non-null  object \n",
      " 50  education_level_cd           475104 non-null  object \n",
      " 51  birth_place                  832973 non-null  object \n",
      " 52  gender_cd                    825781 non-null  object \n",
      " 53  last_sms_dt                  833939 non-null  object \n",
      " 54  last_email_send_dt           19798 non-null   object \n",
      " 55  last_session_dttm            835938 non-null  object \n",
      "dtypes: float64(18), int64(3), object(35)\n",
      "memory usage: 357.2+ MB\n",
      "None\n"
     ]
    }
   ],
   "source": [
    "print(\"\\nИнформация о столбцах:\")\n",
    "print(df.info())"
   ]
  },
  {
   "cell_type": "code",
   "execution_count": 264,
   "id": "91424d04",
   "metadata": {},
   "outputs": [],
   "source": [
    "missing_data = df.isnull().sum()\n",
    "missing_percent = ((missing_data / len(df)) * 100).round(2)\n",
    "\n",
    "missing_df = pd.DataFrame({\n",
    "\t'Количество пропусков' : missing_data,\n",
    "\t'Процент пропусков' : missing_percent\n",
    "})\n",
    "\n",
    "missing_df = missing_df.sort_values(by = 'Процент пропусков', ascending=False)"
   ]
  },
  {
   "cell_type": "code",
   "execution_count": 265,
   "id": "28137788",
   "metadata": {},
   "outputs": [
    {
     "name": "stdout",
     "output_type": "stream",
     "text": [
      "\n",
      "Пропущенные данные:\n",
      "                             Количество пропусков  Процент пропусков\n",
      "cancel_dttm                                835938             100.00\n",
      "call_contact_1m_flg                        835667              99.97\n",
      "call_contact_3m_flg                        835667              99.97\n",
      "call_contact_6m_flg                        835667              99.97\n",
      "good_email_address_flg                     816140              97.63\n",
      "bad_email_address_flg                      816140              97.63\n",
      "last_email_send_dt                         816140              97.63\n",
      "bounce_cd                                  796263              95.25\n",
      "free_cancel_booking_dttm                   760338              90.96\n",
      "hotel_country                              673690              80.59\n",
      "hotel_city                                 673690              80.59\n",
      "book_end_dttm                              664390              79.48\n",
      "education_level_cd                         360834              43.17\n",
      "loyalty_accrual_rub_amt                    360585              43.14\n",
      "lvn_city_nm                                359969              43.06\n",
      "marital_status_cd                          315050              37.69\n",
      "bundle_nm                                  247889              29.65\n",
      "avia_dep_city                              220663              26.40\n",
      "avia_arr_city                              220663              26.40\n",
      "order_item_cnt                             220601              26.39\n",
      "promo_code_discount_amt                    220038              26.32\n",
      "monthly_income_amt                         162860              19.48\n",
      "children_cnt                               116239              13.91\n",
      "loyalty_program_type_nm                     80981               9.69\n",
      "month_beginning_balance_rub                 59310               7.10\n",
      "order_status_cd                             56424               6.75\n",
      "lvn_state_nm                                52769               6.31\n",
      "parent_meeting_region_nm                    49481               5.92\n",
      "party_first_order_type_dt                   49171               5.88\n",
      "order_type_cd                               49053               5.87\n",
      "order_online_payment_flg                    49053               5.87\n",
      "party_first_order_dt                        49053               5.87\n",
      "created_dttm                                49053               5.87\n",
      "nominal_price_eur_amt                       49053               5.87\n",
      "book_start_dttm                             49053               5.87\n",
      "nominal_price_rub_amt                       49053               5.87\n",
      "local_book_start_dttm                       49053               5.87\n",
      "gender_cd                                   10157               1.22\n",
      "birth_place                                  2965               0.35\n",
      "first_used_product_cd                        2460               0.29\n",
      "last_sms_success_flg                         1999               0.24\n",
      "last_sms_dt                                  1999               0.24\n",
      "mobile_phone_operator_nm                     1240               0.15\n",
      "age_type_cd                                   248               0.03\n",
      "age                                             1               0.00\n",
      "last_used_product_cd                            3               0.00\n"
     ]
    }
   ],
   "source": [
    "print('\\nПропущенные данные:')\n",
    "print(missing_df[missing_df['Количество пропусков'] > 0])"
   ]
  },
  {
   "cell_type": "markdown",
   "id": "457caaec",
   "metadata": {},
   "source": [
    "Столбец cancel_dttm - полностью пуст.\n",
    "13 столбцов имеет от 90% до 99.97% пропусков.  "
   ]
  },
  {
   "cell_type": "code",
   "execution_count": 266,
   "id": "488b7c43",
   "metadata": {},
   "outputs": [
    {
     "name": "stdout",
     "output_type": "stream",
     "text": [
      "\n",
      "Полных дубликатов строк: 0\n"
     ]
    }
   ],
   "source": [
    "duplicates = df.duplicated().sum()\n",
    "print(f\"\\nПолных дубликатов строк: {duplicates}\")"
   ]
  },
  {
   "cell_type": "markdown",
   "id": "acbd2950",
   "metadata": {},
   "source": [
    "Полных дубликатов строк нет, это значит, каждая запись уникальна. "
   ]
  },
  {
   "cell_type": "code",
   "execution_count": 267,
   "id": "9050727b",
   "metadata": {},
   "outputs": [
    {
     "name": "stdout",
     "output_type": "stream",
     "text": [
      "Дубликатов order_rk: 49052\n"
     ]
    }
   ],
   "source": [
    "if 'order_rk' in df.columns:\n",
    "    duplicate_orders = df['order_rk'].duplicated().sum()\n",
    "    print(f\"Дубликатов order_rk: {duplicate_orders}\")"
   ]
  },
  {
   "cell_type": "markdown",
   "id": "e2c462f3",
   "metadata": {},
   "source": [
    "Дубликаты в order_rk (идентификатор заказа) могут означать, что некоторые заказы учитываются несколько раз. Например из-за изменения order_status_cd (статус заказа). "
   ]
  },
  {
   "cell_type": "code",
   "execution_count": 268,
   "id": "b6e48942",
   "metadata": {},
   "outputs": [
    {
     "data": {
      "text/plain": [
       "0         AIR\n",
       "1         HOT\n",
       "2         AIR\n",
       "3         HOT\n",
       "4         AIR\n",
       "         ... \n",
       "835933    AIR\n",
       "835934    AIR\n",
       "835935    AIR\n",
       "835936    AIR\n",
       "835937    AIR\n",
       "Name: order_type_cd, Length: 835938, dtype: object"
      ]
     },
     "execution_count": 268,
     "metadata": {},
     "output_type": "execute_result"
    }
   ],
   "source": [
    "df['order_type_cd']"
   ]
  },
  {
   "cell_type": "code",
   "execution_count": 269,
   "id": "36f906a1",
   "metadata": {},
   "outputs": [
    {
     "name": "stdout",
     "output_type": "stream",
     "text": [
      "Типы заказов:\n",
      "order_type_cd\n",
      "AIR    615337\n",
      "HOT    171548\n",
      "NaN     49053\n",
      "Name: count, dtype: int64\n"
     ]
    }
   ],
   "source": [
    "print(\"Типы заказов:\")\n",
    "print(df['order_type_cd'].value_counts(dropna=False))"
   ]
  },
  {
   "cell_type": "code",
   "execution_count": 270,
   "id": "3d1e1cd2",
   "metadata": {},
   "outputs": [
    {
     "name": "stdout",
     "output_type": "stream",
     "text": [
      "Типы заказов (в процентах):\n",
      "order_type_cd\n",
      "AIR    73.61%\n",
      "HOT    20.52%\n",
      "NaN     5.87%\n",
      "Name: proportion, dtype: object\n"
     ]
    }
   ],
   "source": [
    "# Расчет распределения типов заказов в процентах\n",
    "order_type_distribution = df['order_type_cd'].value_counts(dropna=False, normalize=True) * 100\n",
    "\n",
    "print(\"Типы заказов (в процентах):\")\n",
    "print(order_type_distribution.round(2).astype(str) + '%')"
   ]
  },
  {
   "cell_type": "markdown",
   "id": "5915f359",
   "metadata": {},
   "source": [
    "Большинство заказов - авиабилеты. Почти 6% данных не имеют указанного типа. "
   ]
  },
  {
   "cell_type": "code",
   "execution_count": 271,
   "id": "6518a7d0",
   "metadata": {},
   "outputs": [
    {
     "name": "stdout",
     "output_type": "stream",
     "text": [
      "\n",
      "Статусы заказов:\n",
      "order_status_cd\n",
      "SUC    759950\n",
      "NaN     56424\n",
      "PRC     18467\n",
      "ERR       650\n",
      "NSH       304\n",
      "CNC        84\n",
      "REJ        58\n",
      "BRN         1\n",
      "Name: count, dtype: int64\n"
     ]
    }
   ],
   "source": [
    "print('\\nСтатусы заказов:')\n",
    "print(df['order_status_cd'].value_counts(dropna = False))"
   ]
  },
  {
   "cell_type": "code",
   "execution_count": 272,
   "id": "55a9fb00",
   "metadata": {},
   "outputs": [
    {
     "name": "stdout",
     "output_type": "stream",
     "text": [
      "\n",
      "Статусы заказов (в процентах):\n",
      "order_status_cd\n",
      "SUC    90.91%\n",
      "NaN     6.75%\n",
      "PRC     2.21%\n",
      "ERR     0.08%\n",
      "NSH     0.04%\n",
      "CNC     0.01%\n",
      "REJ     0.01%\n",
      "BRN      0.0%\n",
      "Name: proportion, dtype: object\n"
     ]
    }
   ],
   "source": [
    "print('\\nСтатусы заказов (в процентах):')\n",
    "status_distribution = df['order_status_cd'].value_counts(dropna=False, normalize=True) * 100\n",
    "print(status_distribution.round(2).astype(str) + '%')\n"
   ]
  },
  {
   "cell_type": "markdown",
   "id": "dafd6494",
   "metadata": {},
   "source": [
    "Подавляющее большинство заказов имеют статус SUC (успешно завершен), составляя около 90.91%. При этом 73.61% приходится на авиабилеты, а 20.52% - на отели. "
   ]
  },
  {
   "cell_type": "code",
   "execution_count": 273,
   "id": "912de595",
   "metadata": {},
   "outputs": [],
   "source": [
    "hotels_df = df[df['order_type_cd'] == 'HOT']"
   ]
  },
  {
   "cell_type": "code",
   "execution_count": 274,
   "id": "cfd96c97",
   "metadata": {},
   "outputs": [],
   "source": [
    "airport_df = df[df['order_type_cd'] == 'AIR']"
   ]
  },
  {
   "cell_type": "code",
   "execution_count": 275,
   "id": "e9cdb6aa",
   "metadata": {},
   "outputs": [
    {
     "name": "stdout",
     "output_type": "stream",
     "text": [
      "\n",
      "Статусы бронирования отелей:\n",
      "order_status_cd\n",
      "SUC    163794\n",
      "NaN      7371\n",
      "NSH       304\n",
      "REJ        58\n",
      "CNC        21\n",
      "Name: count, dtype: int64\n"
     ]
    }
   ],
   "source": [
    "print('\\nСтатусы бронирования отелей:')\n",
    "print(hotels_df['order_status_cd'].value_counts(dropna=False))"
   ]
  },
  {
   "cell_type": "code",
   "execution_count": 276,
   "id": "d9b94719",
   "metadata": {},
   "outputs": [
    {
     "name": "stdout",
     "output_type": "stream",
     "text": [
      "\n",
      "Статусы бронирования авиабилетов:\n",
      "order_status_cd\n",
      "SUC    596156\n",
      "PRC     18467\n",
      "ERR       650\n",
      "CNC        63\n",
      "BRN         1\n",
      "Name: count, dtype: int64\n"
     ]
    }
   ],
   "source": [
    "print('\\nСтатусы бронирования авиабилетов:')\n",
    "print(airport_df['order_status_cd'].value_counts(dropna=False))"
   ]
  },
  {
   "cell_type": "code",
   "execution_count": 277,
   "id": "a2f0ebe4",
   "metadata": {},
   "outputs": [
    {
     "name": "stdout",
     "output_type": "stream",
     "text": [
      "\n",
      "Успешных бронирований отелей: 163794 (95.5%)\n"
     ]
    }
   ],
   "source": [
    "successful_hotels = hotels_df['order_status_cd'] == 'SUC'\n",
    "print(f\"\\nУспешных бронирований отелей: {successful_hotels.sum()} ({successful_hotels.mean()*100:.1f}%)\")"
   ]
  },
  {
   "cell_type": "code",
   "execution_count": 278,
   "id": "00c63a19",
   "metadata": {},
   "outputs": [
    {
     "name": "stdout",
     "output_type": "stream",
     "text": [
      "\n",
      "Успешных бронирований авиабилетов: 596156 (96.9%)\n"
     ]
    }
   ],
   "source": [
    "successful_airport = airport_df['order_status_cd'] == 'SUC'\n",
    "print(f\"\\nУспешных бронирований авиабилетов: {successful_airport.sum()} ({successful_airport.mean()*100:.1f}%)\")"
   ]
  },
  {
   "cell_type": "markdown",
   "id": "c85ca082",
   "metadata": {},
   "source": [
    "Процент успешных бронирований довольно высок и по бронированию отелей, и по бронированию авиабилетов. Тем не менее авиабилеты имеют более высокий процент успешных бронирований. "
   ]
  },
  {
   "cell_type": "code",
   "execution_count": 279,
   "id": "63c0f3a7",
   "metadata": {},
   "outputs": [
    {
     "data": {
      "text/plain": [
       "0            NaN\n",
       "1          277.0\n",
       "2          565.0\n",
       "3            NaN\n",
       "4          584.0\n",
       "           ...  \n",
       "835933     224.0\n",
       "835934       NaN\n",
       "835935     157.0\n",
       "835936    2403.0\n",
       "835937     191.0\n",
       "Name: loyalty_accrual_rub_amt, Length: 835938, dtype: float64"
      ]
     },
     "execution_count": 279,
     "metadata": {},
     "output_type": "execute_result"
    }
   ],
   "source": [
    "df['loyalty_accrual_rub_amt']"
   ]
  },
  {
   "cell_type": "code",
   "execution_count": 280,
   "id": "156812c9",
   "metadata": {},
   "outputs": [
    {
     "data": {
      "text/plain": [
       "0         0.0\n",
       "1         NaN\n",
       "2         0.0\n",
       "3         NaN\n",
       "4         0.0\n",
       "         ... \n",
       "835933    0.0\n",
       "835934    0.0\n",
       "835935    0.0\n",
       "835936    0.0\n",
       "835937    0.0\n",
       "Name: promo_code_discount_amt, Length: 835938, dtype: float64"
      ]
     },
     "execution_count": 280,
     "metadata": {},
     "output_type": "execute_result"
    }
   ],
   "source": [
    "df['promo_code_discount_amt']"
   ]
  },
  {
   "cell_type": "code",
   "execution_count": 281,
   "id": "2758ca16",
   "metadata": {},
   "outputs": [
    {
     "name": "stdout",
     "output_type": "stream",
     "text": [
      "\n",
      "Бронирований отелей с промокодом/кэшбэком: 105273 (61.37%)\n"
     ]
    }
   ],
   "source": [
    "if 'promo_code_discount_amt' in hotels_df.columns:\n",
    "    with_promo = hotels_df['promo_code_discount_amt'].notna() | (hotels_df['loyalty_accrual_rub_amt'] > 0)\n",
    "\n",
    "print(f\"\\nБронирований отелей с промокодом/кэшбэком: {with_promo.sum()} ({with_promo.mean()*100:.2f}%)\")"
   ]
  },
  {
   "cell_type": "code",
   "execution_count": 282,
   "id": "317ef8c4",
   "metadata": {},
   "outputs": [
    {
     "name": "stdout",
     "output_type": "stream",
     "text": [
      "Органическое бронирование отелей (без стимулирования): 66275 (38.63%)\n"
     ]
    }
   ],
   "source": [
    "organic = ~with_promo\n",
    "print(f\"Органическое бронирование отелей (без стимулирования): {organic.sum()} ({organic.mean()*100:.2f}%)\")"
   ]
  },
  {
   "cell_type": "markdown",
   "id": "37c91b5e",
   "metadata": {},
   "source": [
    "61.37% бронирования отелей совершается с применением промокодов или кэшбека, что демонстрирует высокую зависимость спроса от макретинговых стимулов. "
   ]
  },
  {
   "cell_type": "markdown",
   "id": "62e602ef",
   "metadata": {},
   "source": [
    "Демографический анализ."
   ]
  },
  {
   "cell_type": "code",
   "execution_count": 284,
   "id": "77ac802b",
   "metadata": {},
   "outputs": [
    {
     "name": "stdout",
     "output_type": "stream",
     "text": [
      "Описательная статистика возраста:\n",
      "count    835937.00\n",
      "mean         36.07\n",
      "std           9.37\n",
      "min          14.00\n",
      "25%          29.00\n",
      "50%          35.00\n",
      "75%          41.00\n",
      "max          98.00\n",
      "Name: age, dtype: float64\n"
     ]
    }
   ],
   "source": [
    "if 'age' in df.columns:\n",
    "    print(\"Описательная статистика возраста:\")\n",
    "    print(df['age'].describe().round(2))"
   ]
  },
  {
   "cell_type": "markdown",
   "id": "24aaaa0d",
   "metadata": {},
   "source": [
    "Средний возраст 36 лет, минимальный возраст 14 лет, максимальный возраст 98 лет. "
   ]
  },
  {
   "cell_type": "code",
   "execution_count": 285,
   "id": "920ae804",
   "metadata": {},
   "outputs": [
    {
     "name": "stdout",
     "output_type": "stream",
     "text": [
      "age_type_cd\n",
      "A20    67.28\n",
      "A40    29.56\n",
      "A60     1.91\n",
      "A00     1.25\n",
      "Name: proportion, dtype: float64\n"
     ]
    }
   ],
   "source": [
    "if 'age_type_cd' in df.columns:\n",
    "    age_groups = (df['age_type_cd'].value_counts(normalize=True) * 100).round(2)\n",
    "    print(age_groups)"
   ]
  },
  {
   "cell_type": "markdown",
   "id": "527b0c1d",
   "metadata": {},
   "source": [
    "Основная аудитория это молодые клиенты (20 - 40 лет) 67.28% и взрослые клиенты (40 - 60 лет) 29.56%."
   ]
  },
  {
   "cell_type": "code",
   "execution_count": 286,
   "id": "04b16ee0",
   "metadata": {},
   "outputs": [
    {
     "name": "stdout",
     "output_type": "stream",
     "text": [
      "\n",
      "Распределение по полу:\n",
      "gender_cd\n",
      "M    62.93\n",
      "F    37.07\n",
      "Name: proportion, dtype: float64\n"
     ]
    }
   ],
   "source": [
    "if 'gender_cd' in df.columns:\n",
    "    print(\"\\nРаспределение по полу:\")\n",
    "    gender_dist = (df['gender_cd'].value_counts(normalize=True) * 100).round(2)\n",
    "    print(gender_dist)"
   ]
  },
  {
   "cell_type": "markdown",
   "id": "62cfd71d",
   "metadata": {},
   "source": [
    "Мужчины 62.93%, женщины 37.07%.\n",
    "Преобладающее число пользователей являются мужчинами. Гендерный дисбаланс (почти 2:1)."
   ]
  },
  {
   "cell_type": "code",
   "execution_count": 287,
   "id": "8249cf6f",
   "metadata": {},
   "outputs": [
    {
     "name": "stdout",
     "output_type": "stream",
     "text": [
      "\n",
      "Семейный статус клиентов:\n",
      "marital_status_cd\n",
      "MAR    43.84\n",
      "UNM    42.38\n",
      "CIV     6.79\n",
      "DIV     6.55\n",
      "WID     0.44\n",
      "DLW     0.00\n",
      "Name: proportion, dtype: float64\n"
     ]
    }
   ],
   "source": [
    "if 'marital_status_cd' in df.columns:\n",
    "    print(\"\\nСемейный статус клиентов:\")\n",
    "    marital_status = (df['marital_status_cd'].value_counts(normalize=True) * 100).round(2)\n",
    "    print(marital_status)"
   ]
  },
  {
   "cell_type": "markdown",
   "id": "30610b4d",
   "metadata": {},
   "source": [
    "Женаты/замужем 43.84%, холостые 42.38%\n",
    "Количество пользователей, которые состоят в браке и не состоят, примерно одинаково."
   ]
  },
  {
   "cell_type": "code",
   "execution_count": 288,
   "id": "b5e84bc0",
   "metadata": {},
   "outputs": [
    {
     "data": {
      "text/html": [
       "<div>\n",
       "<style scoped>\n",
       "    .dataframe tbody tr th:only-of-type {\n",
       "        vertical-align: middle;\n",
       "    }\n",
       "\n",
       "    .dataframe tbody tr th {\n",
       "        vertical-align: top;\n",
       "    }\n",
       "\n",
       "    .dataframe thead th {\n",
       "        text-align: right;\n",
       "    }\n",
       "</style>\n",
       "<table border=\"1\" class=\"dataframe\">\n",
       "  <thead>\n",
       "    <tr style=\"text-align: right;\">\n",
       "      <th>marital_status_cd</th>\n",
       "      <th>CIV</th>\n",
       "      <th>DIV</th>\n",
       "      <th>DLW</th>\n",
       "      <th>MAR</th>\n",
       "      <th>UNM</th>\n",
       "      <th>WID</th>\n",
       "    </tr>\n",
       "    <tr>\n",
       "      <th>gender_cd</th>\n",
       "      <th></th>\n",
       "      <th></th>\n",
       "      <th></th>\n",
       "      <th></th>\n",
       "      <th></th>\n",
       "      <th></th>\n",
       "    </tr>\n",
       "  </thead>\n",
       "  <tbody>\n",
       "    <tr>\n",
       "      <th>F</th>\n",
       "      <td>7.53</td>\n",
       "      <td>9.06</td>\n",
       "      <td>0.0</td>\n",
       "      <td>38.44</td>\n",
       "      <td>44.11</td>\n",
       "      <td>0.86</td>\n",
       "    </tr>\n",
       "    <tr>\n",
       "      <th>M</th>\n",
       "      <td>6.34</td>\n",
       "      <td>5.08</td>\n",
       "      <td>0.0</td>\n",
       "      <td>46.99</td>\n",
       "      <td>41.39</td>\n",
       "      <td>0.19</td>\n",
       "    </tr>\n",
       "  </tbody>\n",
       "</table>\n",
       "</div>"
      ],
      "text/plain": [
       "marital_status_cd   CIV   DIV  DLW    MAR    UNM   WID\n",
       "gender_cd                                             \n",
       "F                  7.53  9.06  0.0  38.44  44.11  0.86\n",
       "M                  6.34  5.08  0.0  46.99  41.39  0.19"
      ]
     },
     "execution_count": 288,
     "metadata": {},
     "output_type": "execute_result"
    }
   ],
   "source": [
    "(pd.crosstab(df['gender_cd'], df['marital_status_cd'], normalize='index')*100).round(2)"
   ]
  },
  {
   "cell_type": "code",
   "execution_count": 289,
   "id": "3744a0c9",
   "metadata": {},
   "outputs": [
    {
     "name": "stdout",
     "output_type": "stream",
     "text": [
      "\n",
      "Распределение по количеству детей:\n",
      "children_cnt\n",
      "0.0    95.52\n",
      "1.0     2.40\n",
      "2.0     1.62\n",
      "3.0     0.41\n",
      "4.0     0.04\n",
      "5.0     0.01\n",
      "6.0     0.00\n",
      "8.0     0.00\n",
      "Name: proportion, dtype: float64\n"
     ]
    }
   ],
   "source": [
    "if 'children_cnt' in df.columns:\n",
    "    print(\"\\nРаспределение по количеству детей:\")\n",
    "    children_dist = (df['children_cnt'].value_counts(normalize=True) * 100).round(2)\n",
    "    print(children_dist)"
   ]
  },
  {
   "cell_type": "markdown",
   "id": "53cbb4e7",
   "metadata": {},
   "source": [
    "Без детей 95.52%. \n",
    "Преобладающее число людей не имеют детей, дети есть у 4.48% пользователей. "
   ]
  },
  {
   "cell_type": "code",
   "execution_count": 290,
   "id": "607fb067",
   "metadata": {},
   "outputs": [
    {
     "name": "stdout",
     "output_type": "stream",
     "text": [
      "\n",
      "Уровень образования клиентов:\n",
      "education_level_cd\n",
      "GRD    66.77\n",
      "UGR    13.47\n",
      "SCH    12.19\n",
      "PGR     5.73\n",
      "ACD     1.83\n",
      "Name: proportion, dtype: float64\n"
     ]
    }
   ],
   "source": [
    "if 'education_level_cd' in df.columns:\n",
    "    print(\"\\nУровень образования клиентов:\")\n",
    "    education_dist = (df['education_level_cd'].value_counts(normalize=True) * 100).round(2)\n",
    "    print(education_dist)"
   ]
  },
  {
   "cell_type": "markdown",
   "id": "5f7d5aa6",
   "metadata": {},
   "source": [
    "Высшее образование есть у 66.77% пользователей. "
   ]
  },
  {
   "cell_type": "markdown",
   "id": "7314a6c7",
   "metadata": {},
   "source": [
    "Демографический портрет клиента представляет собой молодого человека в возрасте от 20 до 40 лет, с заметным преобладанием мужской аудитории (62.93 % против 37.07 % женской аудитории). Люди возраста старше 60 лет (1.91%) и молодые люди до 20 лет (1.25%) представлены незначительно. Семьи с одним ребенком и более встречаются редко (всего 4.48 %, из которых лишь у 2.40 % есть один ребенок). Более половины клиентов имеют высшее образование (66.77 %), еще 13.47 % имеют неполное высшее образованиее."
   ]
  },
  {
   "cell_type": "code",
   "execution_count": 291,
   "id": "90117661",
   "metadata": {},
   "outputs": [
    {
     "name": "stdout",
     "output_type": "stream",
     "text": [
      "\n",
      "Топ-10 регионов проживания:\n",
      "lvn_state_nm\n",
      "Г МОСКВА              172961\n",
      "МОСКОВСКАЯ ОБЛ         80060\n",
      "Г САНКТ-ПЕТЕРБУРГ      70977\n",
      "СВЕРДЛОВСКАЯ ОБЛ       34714\n",
      "КРАСНОДАРСКИЙ КРАЙ     26948\n",
      "РЕСП ТАТАРСТАН         26079\n",
      "РЕСП БАШКОРТОСТАН      22124\n",
      "ЧЕЛЯБИНСКАЯ ОБЛ        17377\n",
      "САМАРСКАЯ ОБЛ          16571\n",
      "ЛЕНИНГРАДСКАЯ ОБЛ      14064\n",
      "Name: count, dtype: int64\n"
     ]
    }
   ],
   "source": [
    "if 'lvn_state_nm' in df.columns:\n",
    "    print(\"\\nТоп-10 регионов проживания:\")\n",
    "    top_regions = df['lvn_state_nm'].value_counts().head(10)\n",
    "    print(top_regions)"
   ]
  },
  {
   "cell_type": "markdown",
   "id": "cbc1c300",
   "metadata": {},
   "source": [
    "Большинство пользователей являются жителями Москвы и Московской области. "
   ]
  },
  {
   "cell_type": "code",
   "execution_count": 292,
   "id": "50ec8010",
   "metadata": {},
   "outputs": [
    {
     "name": "stdout",
     "output_type": "stream",
     "text": [
      "\n",
      "Топ-10 городов вылета:\n",
      "avia_dep_city\n",
      "Москва              202016\n",
      "Санкт-Петербург      55202\n",
      "Сочи (Адлер)         32054\n",
      "Екатеринбург         24003\n",
      "Минеральные Воды     14854\n",
      "Казань               14110\n",
      "Уфа                  12722\n",
      "Стамбул              11285\n",
      "Новосибирск          10404\n",
      "Самара               10246\n",
      "Name: count, dtype: int64\n"
     ]
    }
   ],
   "source": [
    "if 'avia_dep_city' in df.columns:\n",
    "    print(\"\\nТоп-10 городов вылета:\")\n",
    "    print(df['avia_dep_city'].value_counts().head(10))"
   ]
  },
  {
   "cell_type": "markdown",
   "id": "a6a5acbb",
   "metadata": {},
   "source": [
    "Чаще всего пользователи вылетали из аэропортов Москвы и Санкт-Петербурга. "
   ]
  },
  {
   "cell_type": "code",
   "execution_count": 293,
   "id": "d8cb2d2e",
   "metadata": {},
   "outputs": [
    {
     "name": "stdout",
     "output_type": "stream",
     "text": [
      "\n",
      "Топ-10 городов прилета:\n",
      "avia_arr_city\n",
      "Москва              188962\n",
      "Санкт-Петербург      54341\n",
      "Сочи (Адлер)         31048\n",
      "Екатеринбург         22843\n",
      "Минеральные Воды     14364\n",
      "Казань               13547\n",
      "Душанбе              13524\n",
      "Уфа                  12480\n",
      "Стамбул              11158\n",
      "Самара                9933\n",
      "Name: count, dtype: int64\n"
     ]
    }
   ],
   "source": [
    "if 'avia_arr_city' in df.columns:\n",
    "    print(\"\\nТоп-10 городов прилета:\")\n",
    "    print(df['avia_arr_city'].value_counts().head(10))"
   ]
  },
  {
   "cell_type": "markdown",
   "id": "ed350273",
   "metadata": {},
   "source": [
    "Прилетают пользователи тоже чаще всего в аэропорты Москвы и Санкт-Петербурга. "
   ]
  },
  {
   "cell_type": "code",
   "execution_count": 294,
   "id": "807d8da8",
   "metadata": {},
   "outputs": [
    {
     "name": "stdout",
     "output_type": "stream",
     "text": [
      "\n",
      "Топ-10 стран отелей:\n",
      "hotel_country\n",
      "Россия       120729\n",
      "Турция         7511\n",
      "Таиланд        5611\n",
      "ОАЭ            3903\n",
      "Италия         2002\n",
      "Китай          1912\n",
      "Япония         1787\n",
      "Грузия         1519\n",
      "Казахстан      1322\n",
      "Индонезия      1204\n",
      "Name: count, dtype: int64\n"
     ]
    }
   ],
   "source": [
    "if 'hotel_country' in df.columns:\n",
    "    print(\"\\nТоп-10 стран отелей:\")\n",
    "    print(df['hotel_country'].value_counts().head(10))"
   ]
  },
  {
   "cell_type": "markdown",
   "id": "e72490c6",
   "metadata": {},
   "source": [
    "Чаще всего пользователи посещают города России и Турции. "
   ]
  },
  {
   "cell_type": "code",
   "execution_count": 295,
   "id": "c497f63e",
   "metadata": {},
   "outputs": [
    {
     "name": "stdout",
     "output_type": "stream",
     "text": [
      "\n",
      "Топ-10 городов отелей:\n",
      "hotel_city\n",
      "Москва             22624\n",
      "Санкт-Петербург    13881\n",
      "Сочи                6098\n",
      "Казань              3675\n",
      "Стамбул             3379\n",
      "Дубай               3111\n",
      "Екатеринбург        2447\n",
      "Краснодар           2341\n",
      "Эсто-Садок          2301\n",
      "Нижний Новгород     2150\n",
      "Name: count, dtype: int64\n"
     ]
    }
   ],
   "source": [
    "if 'hotel_city' in df.columns:\n",
    "    print(\"\\nТоп-10 городов отелей:\")\n",
    "    print(df['hotel_city'].value_counts().head(10))"
   ]
  },
  {
   "cell_type": "markdown",
   "id": "06eefe4a",
   "metadata": {},
   "source": [
    "Географический портрет клиентов и их предпочтений. \n",
    "Большинство клиентов проживает в Москве (172 961 человек) и Московской области (80 060 человек), третье место занимает Санкт-Петербург (70 977 человек). География вылетов и прилётов демонстрирует следующие тенденции: лидируют Москва (202 016 вылетов и 188 962 прилёта) и Санкт-Петербург (55 202 вылета и 54 341 прилёт), третьим популярным направлением является Сочи (32 054 вылета и 31 048 прилётов). Среди международных направлений выделяется Стамбул (11 285 вылетов и 11 158 прилётов). Что касается внутрироссийского туризма, то предпочтения туристов распределяются следующим образом: наибольший интерес вызывают отели Москвы (22 624 отеля), Санкт-Петербурга (13 881 отель) и Сочи (6 098 отелей). Наиболее востребованными зарубежными направлениями среди забронированных отелей стали Турция (7 511 отелей), Таиланд (5 611 отелей) и Объединённые Арабские Эмираты (3 903 отеля)."
   ]
  },
  {
   "cell_type": "code",
   "execution_count": 296,
   "id": "82457266",
   "metadata": {},
   "outputs": [
    {
     "name": "stdout",
     "output_type": "stream",
     "text": [
      "\n",
      "Средняя сумма заказа: 15178.10 руб.\n"
     ]
    }
   ],
   "source": [
    "avg_order_amount = df['nominal_price_rub_amt'].mean()\n",
    "print(f\"\\nСредняя сумма заказа: {avg_order_amount:.2f} руб.\")\n"
   ]
  },
  {
   "cell_type": "code",
   "execution_count": 297,
   "id": "41a7c3ec",
   "metadata": {},
   "outputs": [
    {
     "name": "stdout",
     "output_type": "stream",
     "text": [
      "Средний размер скидки: 5.45 руб.\n"
     ]
    }
   ],
   "source": [
    "avg_discount = df['promo_code_discount_amt'].mean()\n",
    "print(f\"Средний размер скидки: {avg_discount:.2f} руб.\")"
   ]
  },
  {
   "cell_type": "markdown",
   "id": "bc904d89",
   "metadata": {},
   "source": [
    "Несмотря на небольшие средние скидки 5.45 рублей ими активно пользуются. "
   ]
  },
  {
   "cell_type": "code",
   "execution_count": 298,
   "id": "0103e5dc",
   "metadata": {},
   "outputs": [
    {
     "name": "stdout",
     "output_type": "stream",
     "text": [
      "Среднее начисление бонусных баллов: 644.11 руб.\n"
     ]
    }
   ],
   "source": [
    "avg_loyalty_points = df['loyalty_accrual_rub_amt'].mean()\n",
    "print(f\"Среднее начисление бонусных баллов: {avg_loyalty_points:.2f} руб.\")"
   ]
  },
  {
   "cell_type": "code",
   "execution_count": 299,
   "id": "e3b084f2",
   "metadata": {},
   "outputs": [],
   "source": [
    "df['created_dttm'] = pd.to_datetime(df['created_dttm'])\n",
    "df['cancel_dttm'] = pd.to_datetime(df['cancel_dttm'])\n",
    "\n",
    "df['booking_year'] = df['created_dttm'].dt.year\n",
    "df['booking_month'] = df['created_dttm'].dt.month_name()"
   ]
  },
  {
   "cell_type": "code",
   "execution_count": 300,
   "id": "e122c897",
   "metadata": {},
   "outputs": [
    {
     "name": "stdout",
     "output_type": "stream",
     "text": [
      "\n",
      "Средняя продолжительность бронирования: 2.16 дней\n"
     ]
    }
   ],
   "source": [
    "df['stay_duration_days'] = (pd.to_datetime(df['book_end_dttm']) - pd.to_datetime(df['book_start_dttm'])).dt.days\n",
    "avg_stay_duration = df['stay_duration_days'].mean()\n",
    "print(f\"\\nСредняя продолжительность бронирования: {avg_stay_duration:.2f} дней\")"
   ]
  },
  {
   "cell_type": "markdown",
   "id": "720b5869",
   "metadata": {},
   "source": [
    "Преобладает краткосрочное бронирование (на 2 дня), что позволяет предположить, что отели чаще всего бронируют для деловых поездок."
   ]
  },
  {
   "cell_type": "code",
   "execution_count": 301,
   "id": "b739a0fd",
   "metadata": {},
   "outputs": [
    {
     "name": "stdout",
     "output_type": "stream",
     "text": [
      "Наиболее популярный месяц для бронирования: July\n"
     ]
    }
   ],
   "source": [
    "most_popular_month = df['booking_month'].mode()[0]\n",
    "print(f\"Наиболее популярный месяц для бронирования: {most_popular_month}\")"
   ]
  },
  {
   "cell_type": "markdown",
   "id": "27e2c85c",
   "metadata": {},
   "source": [
    "Наиболее популярным месяцем для бронирования является Июль. Этот месяц соответсвует сезону отпусков.  "
   ]
  },
  {
   "cell_type": "code",
   "execution_count": 302,
   "id": "21184b0a",
   "metadata": {},
   "outputs": [
    {
     "name": "stdout",
     "output_type": "stream",
     "text": [
      "Максимальная длительность существования аккаунта: 2599 дней\n"
     ]
    }
   ],
   "source": [
    "df['party_first_order_dt'] = pd.to_datetime(df['party_first_order_dt'])\n",
    "account_lifespan = (df['created_dttm'].max() - df['party_first_order_dt'].min()).days\n",
    "print(f\"Максимальная длительность существования аккаунта: {account_lifespan} дней\")"
   ]
  },
  {
   "cell_type": "markdown",
   "id": "2bb0ba83",
   "metadata": {},
   "source": [
    "Самый длительный аккаунт был создан человеком, который пользуется им более 7 лет. "
   ]
  },
  {
   "cell_type": "code",
   "execution_count": 303,
   "id": "7af1ca62",
   "metadata": {},
   "outputs": [
    {
     "name": "stdout",
     "output_type": "stream",
     "text": [
      "Доля заказов с промокодами: 73.68%\n",
      "\n",
      "Использование промокодов по типам заказов:\n",
      "order_type_cd\n",
      "AIR    100.00\n",
      "HOT      0.33\n",
      "Name: promo_code_discount_amt, dtype: float64\n"
     ]
    }
   ],
   "source": [
    "if 'promo_code_discount_amt' in df.columns:\n",
    "    promo_usage = df['promo_code_discount_amt'].notna()\n",
    "    print(f\"Доля заказов с промокодами: {promo_usage.mean()*100:.2f}%\")\n",
    "    \n",
    "if 'order_type_cd' in df.columns:\n",
    "        print(\"\\nИспользование промокодов по типам заказов:\")\n",
    "        print((df.groupby('order_type_cd')['promo_code_discount_amt'].apply(lambda x: x.notna().mean()*100)).round(2))"
   ]
  },
  {
   "cell_type": "code",
   "execution_count": null,
   "id": "ad9b3321",
   "metadata": {},
   "outputs": [
    {
     "name": "stdout",
     "output_type": "stream",
     "text": [
      "\n",
      "Средний чек с промокодом: 16073 руб.\n",
      "Средний чек без промокода: nan руб.\n"
     ]
    }
   ],
   "source": [
    "if {'promo_code_discount_amt', 'nominal_price_rub_amt'}.issubset(airport_df.columns):    promo_orders1 = airport_df[airport_df['promo_code_discount_amt'].notna()]   \n",
    "organic_orders1 = airport_df[airport_df['promo_code_discount_amt'].isna()]\n",
    "\n",
    "print(f\"\\nСредний чек с промокодом: {promo_orders1['nominal_price_rub_amt'].mean():.0f} руб.\")\n",
    "print(f\"Средний чек без промокода: {organic_orders1['nominal_price_rub_amt'].mean():.0f} руб.\")\n",
    "\n"
   ]
  },
  {
   "cell_type": "markdown",
   "id": "63b111de",
   "metadata": {},
   "source": [
    "Средний чек покупки авиабилетов с промокодом равен 16073 руб. Без промокода данные отсутствуют, так как покупки всего совершаются с промокодом. "
   ]
  },
  {
   "cell_type": "code",
   "execution_count": 355,
   "id": "56f91b49",
   "metadata": {},
   "outputs": [
    {
     "name": "stdout",
     "output_type": "stream",
     "text": [
      "\n",
      "Средний чек с промокодом: 10699 руб.\n",
      "Средний чек без промокода: 11973 руб.\n"
     ]
    }
   ],
   "source": [
    "if {'promo_code_discount_amt', 'nominal_price_rub_amt'}.issubset(hotels_df.columns):    promo_orders = hotels_df[hotels_df['promo_code_discount_amt'].notna()]   \n",
    "organic_orders = hotels_df[hotels_df['promo_code_discount_amt'].isna()]\n",
    "\n",
    "print(f\"\\nСредний чек с промокодом: {promo_orders['nominal_price_rub_amt'].mean():.0f} руб.\")\n",
    "print(f\"Средний чек без промокода: {organic_orders['nominal_price_rub_amt'].mean():.0f} руб.\")\n",
    "\n"
   ]
  },
  {
   "cell_type": "markdown",
   "id": "a0090938",
   "metadata": {},
   "source": [
    "Средний чек бронирования отелей с промокодом выше на 1274 руб."
   ]
  },
  {
   "cell_type": "code",
   "execution_count": 305,
   "id": "138588df",
   "metadata": {},
   "outputs": [
    {
     "name": "stdout",
     "output_type": "stream",
     "text": [
      "Отказ от email: 1.1% клиентов\n",
      "Отказ от звонков: 3.2% клиентов\n"
     ]
    }
   ],
   "source": [
    "com_flags = {\n",
    "    'suppress_email_flg': 'Отказ от email',\n",
    "    'suppress_call_flg': 'Отказ от звонков'\n",
    "}\n",
    "for col, label in com_flags.items():\n",
    "    if col in df.columns:\n",
    "        opt_out = df[col].mean()*100\n",
    "        print(f\"{label}: {opt_out:.1f}% клиентов\")"
   ]
  },
  {
   "cell_type": "markdown",
   "id": "fc6f1b50",
   "metadata": {},
   "source": [
    "Процент отказов довольно низкий. "
   ]
  },
  {
   "cell_type": "code",
   "execution_count": 306,
   "id": "5a5217a2",
   "metadata": {},
   "outputs": [
    {
     "name": "stdout",
     "output_type": "stream",
     "text": [
      "\n",
      "Успешность последнего SMS: 83.55%\n"
     ]
    }
   ],
   "source": [
    "if 'last_sms_success_flg' in df.columns:\n",
    "    sms_success = df['last_sms_success_flg'].mean()*100\n",
    "    print(f\"\\nУспешность последнего SMS: {sms_success:.2f}%\")\n"
   ]
  },
  {
   "cell_type": "code",
   "execution_count": 307,
   "id": "ebb39585",
   "metadata": {},
   "outputs": [
    {
     "name": "stdout",
     "output_type": "stream",
     "text": [
      "Проблемы с доставкой email: 4.75%\n"
     ]
    }
   ],
   "source": [
    "if 'bounce_cd' in df.columns:\n",
    "    email_failure = df['bounce_cd'].notna().mean()*100\n",
    "    print(f\"Проблемы с доставкой email: {email_failure:.2f}%\")\n",
    "    "
   ]
  },
  {
   "cell_type": "code",
   "execution_count": 308,
   "id": "15db0589",
   "metadata": {},
   "outputs": [
    {
     "name": "stdout",
     "output_type": "stream",
     "text": [
      "Контакт (6 мес): 0.00% клиентов\n",
      "Контакт (3 мес): 0.00% клиентов\n",
      "Контакт (1 мес): 0.00% клиентов\n"
     ]
    }
   ],
   "source": [
    "contact_cols = {\n",
    "    'call_contact_6m_flg': 'Контакт (6 мес)',\n",
    "    'call_contact_3m_flg': 'Контакт (3 мес)',\n",
    "    'call_contact_1m_flg': 'Контакт (1 мес)'\n",
    "}\n",
    "\n",
    "for col, label in contact_cols.items():\n",
    "    if col in df.columns:\n",
    "        contact_rate = df[col].mean()*100\n",
    "        print(f\"{label}: {contact_rate:.2f}% клиентов\")"
   ]
  },
  {
   "cell_type": "code",
   "execution_count": 309,
   "id": "b79f5f17",
   "metadata": {},
   "outputs": [
    {
     "name": "stdout",
     "output_type": "stream",
     "text": [
      "\n",
      "Распространённость программ лояльности:\n",
      "loyalty_program_type_nm\n",
      "Tinkoff Black                     289081\n",
      "Tinkoff Black Premium             189005\n",
      "All Airlines                      143114\n",
      "Bravo                              41428\n",
      "All Airlines Premium Кредитный     28634\n",
      "All Airlines Premium               16277\n",
      "AllAirLinesDebit                   14824\n",
      "Tinkoff Black Private               6994\n",
      "Tinkoff Platinum                    6154\n",
      "Tinkoff Platinum Premium            5737\n",
      "Name: count, dtype: int64\n"
     ]
    }
   ],
   "source": [
    "loyalty_prog_dist = df['loyalty_program_type_nm'].value_counts().head(10)\n",
    "print(\"\\nРаспространённость программ лояльности:\")\n",
    "print(loyalty_prog_dist)"
   ]
  },
  {
   "cell_type": "code",
   "execution_count": 310,
   "id": "29073c01",
   "metadata": {},
   "outputs": [
    {
     "name": "stdout",
     "output_type": "stream",
     "text": [
      "\n",
      "Распространенность программ лояльности (в процентах):\n",
      "loyalty_program_type_nm\n",
      "Tinkoff Black                     39.00%\n",
      "Tinkoff Black Premium             25.50%\n",
      "All Airlines                      19.31%\n",
      "Bravo                              5.59%\n",
      "All Airlines Premium Кредитный     3.86%\n",
      "All Airlines Premium               2.20%\n",
      "AllAirLinesDebit                   2.00%\n",
      "Tinkoff Black Private              0.94%\n",
      "Tinkoff Platinum                   0.83%\n",
      "Tinkoff Platinum Premium           0.77%\n",
      "Name: count, dtype: object\n"
     ]
    }
   ],
   "source": [
    "total_records = loyalty_prog_dist.sum()\n",
    "loyalty_prog_percentage = ((loyalty_prog_dist / total_records) * 100).round(2)\n",
    "\n",
    "print(\"\\nРаспространенность программ лояльности (в процентах):\")\n",
    "print(loyalty_prog_percentage.apply(lambda x: f'{x:.2f}%'))"
   ]
  },
  {
   "cell_type": "markdown",
   "id": "7932003f",
   "metadata": {},
   "source": [
    "Продукты линейки Tinkoff приобладают (Tinloff Black 39.00%, Tinkoff Black Premium 25.50%), на третем месте находится All Airlines (19.31%). "
   ]
  },
  {
   "cell_type": "code",
   "execution_count": 311,
   "id": "b12c3db7",
   "metadata": {},
   "outputs": [
    {
     "name": "stdout",
     "output_type": "stream",
     "text": [
      "\n",
      "Использование подписок:\n",
      "bundle_nm\n",
      "Premium            292078\n",
      "Pro                286277\n",
      "Private              8364\n",
      "Team Premium          824\n",
      "Team Select           271\n",
      "Team Pro              150\n",
      "Team Private           37\n",
      "Tinkoff Premium        25\n",
      "Tinkoff Pro            23\n",
      "Name: count, dtype: int64\n"
     ]
    }
   ],
   "source": [
    "subscription_usage = df['bundle_nm'].value_counts()\n",
    "print(\"\\nИспользование подписок:\")\n",
    "print(subscription_usage)"
   ]
  },
  {
   "cell_type": "code",
   "execution_count": 312,
   "id": "ff6b58d2",
   "metadata": {},
   "outputs": [
    {
     "name": "stdout",
     "output_type": "stream",
     "text": [
      "\n",
      "Использование подписок (в процентах):\n",
      "bundle_nm\n",
      "Premium            49.67%\n",
      "Pro                48.68%\n",
      "Private             1.42%\n",
      "Team Premium        0.14%\n",
      "Team Select         0.05%\n",
      "Team Pro            0.03%\n",
      "Team Private        0.01%\n",
      "Tinkoff Premium     0.00%\n",
      "Tinkoff Pro         0.00%\n",
      "Name: count, dtype: object\n"
     ]
    }
   ],
   "source": [
    "total_subscriptions = subscription_usage.sum()\n",
    "subscription_percentage = ((subscription_usage / total_subscriptions) * 100).round(2)\n",
    "\n",
    "print(\"\\nИспользование подписок (в процентах):\")\n",
    "print(subscription_percentage.apply(lambda x: f'{x:.2f}%'))"
   ]
  },
  {
   "cell_type": "markdown",
   "id": "0b2603b7",
   "metadata": {},
   "source": [
    "Большинство пользователей используют Premium (49.67%) и Pro (48.68%)подписки."
   ]
  }
 ],
 "metadata": {
  "kernelspec": {
   "display_name": "Python 3",
   "language": "python",
   "name": "python3"
  },
  "language_info": {
   "codemirror_mode": {
    "name": "ipython",
    "version": 3
   },
   "file_extension": ".py",
   "mimetype": "text/x-python",
   "name": "python",
   "nbconvert_exporter": "python",
   "pygments_lexer": "ipython3",
   "version": "3.11.9"
  }
 },
 "nbformat": 4,
 "nbformat_minor": 5
}
